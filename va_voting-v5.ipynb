{
 "cells": [
  {
   "cell_type": "code",
   "execution_count": 1,
   "metadata": {},
   "outputs": [],
   "source": [
    "# reproduce in sql\n",
    "# calc entropy by precinct\n",
    "# to merge--need to preserve county_fips or county_ansi\n",
    "# what to do with -0? uncontested race? or all NAs? look more closely\n",
    "# 2016--includes only house race in Va (no senate race that year)\n",
    "\n",
    "def entropy(filename):\n",
    "    '''\n",
    "    given csv elections data in filename in MIT Election Data and Science Lab format, \n",
    "        return dataframe with column for entropy for each race\n",
    "          = - sum_i p_i log2(p_i)\n",
    "      and 'color' (share of democratic vote)\n",
    "      reference for expected data:\n",
    "        MIT Election Data and Science Lab, 2022, \"Precinct-Level Returns 2018 by Individual State\", https://doi.org/10.7910/DVN/NVQYMG, Harvard Dataverse, V1, UNF:6:SwtabUdCVrn80v9AOUGuiw== [fileUNF]\n",
    "        https://dataverse.harvard.edu/dataset.xhtml?persistentId=doi:10.7910/DVN/NVQYMG\n",
    "    '''\n",
    "    import pandas as pd\n",
    "    import numpy as np\n",
    "    \n",
    "    df0 = pd.read_csv(filename)\n",
    "    \n",
    "    office_list = [\"US HOUSE\",\"US SENATE\",\"US House\",\"US Senate\"]\n",
    "    df_short = df0.loc[:,[\"precinct\",\"office\",\"county_name\",\"county_fips\",\"party_detailed\",\"votes\"]] \\\n",
    "                            .dropna(subset=[\"party_detailed\"]) \\\n",
    "                            [df0['office'].isin(office_list)]\n",
    "    df_sums = df_short.groupby(by=[\"county_name\",\"county_fips\",\"office\",\"party_detailed\"]).sum()\n",
    "    df=df_sums.unstack()\n",
    "    \n",
    "    party_list = get_party_names(df)\n",
    "    print(\"party_list\",party_list)\n",
    "    \n",
    "    df['total_votes'] = 0\n",
    "    df['entropy'] =0\n",
    "    \n",
    "    for party in party_list:\n",
    "        df['total_votes'] += df.fillna(0)[('votes',party)]\n",
    "        if party[:3].lower() == 'dem':\n",
    "            dem = party\n",
    "    \n",
    "    for party in party_list:\n",
    "        df['entropy'] -= df.fillna(0)[('votes',party)]/df['total_votes'] \\\n",
    "                        *np.log2(df.fillna(1)[('votes',party)]/df['total_votes'])  \n",
    "    \n",
    "    \n",
    "    \n",
    "    df['color'] = df[('votes',dem)]/df['total_votes']     \n",
    "        \n",
    "    return df.reset_index()\n",
    "\n",
    "def get_party_names(df):\n",
    "    cols = df.columns.tolist()\n",
    "    party_names=[]\n",
    "    for col in cols:\n",
    "        if type(col) is tuple and col[0]=='votes':\n",
    "            party_names.append(col[1])\n",
    "            \n",
    "    return party_names\n"
   ]
  },
  {
   "cell_type": "code",
   "execution_count": 2,
   "metadata": {},
   "outputs": [
    {
     "name": "stdout",
     "output_type": "stream",
     "text": [
      "party_list ['DEMOCRAT', 'LIBERTARIAN', 'REPUBLICAN']\n"
     ]
    },
    {
     "name": "stderr",
     "output_type": "stream",
     "text": [
      "/opt/anaconda3/lib/python3.8/site-packages/IPython/core/interactiveshell.py:3338: DtypeWarning: Columns (2,3,11) have mixed types.Specify dtype option on import or set low_memory=False.\n",
      "  if (await self.run_code(code, result,  async_=asy)):\n",
      "<ipython-input-1-f0476c75a120>:24: UserWarning: Boolean Series key will be reindexed to match DataFrame index.\n",
      "  df_short = df0.loc[:,[\"precinct\",\"office\",\"county_name\",\"county_fips\",\"party_detailed\",\"votes\"]] \\\n"
     ]
    },
    {
     "data": {
      "text/plain": [
       "count    266.000000\n",
       "mean       0.958337\n",
       "std        0.161735\n",
       "min        0.000000\n",
       "25%        0.917355\n",
       "50%        0.992145\n",
       "75%        1.053043\n",
       "max        1.189608\n",
       "Name: entropy, dtype: float64"
      ]
     },
     "execution_count": 2,
     "metadata": {},
     "output_type": "execute_result"
    },
    {
     "data": {
      "image/png": "[encoded data removed]",
      "text/plain": [
       "<Figure size 432x288 with 1 Axes>"
      ]
     },
     "metadata": {
      "needs_background": "light"
     },
     "output_type": "display_data"
    }
   ],
   "source": [
    "import matplotlib.pyplot as plt\n",
    "file = 'data/2018-va-precinct-general.csv'   \n",
    "df_2018 = entropy(file)\n",
    "plt.hist(df_2018['entropy'])\n",
    "df_2018['entropy'].describe()"
   ]
  },
  {
   "cell_type": "code",
   "execution_count": 3,
   "metadata": {
    "scrolled": true
   },
   "outputs": [
    {
     "name": "stdout",
     "output_type": "stream",
     "text": [
      "party_list ['DEMOCRAT', 'INDEPENDENT', 'REPUBLICAN']\n"
     ]
    },
    {
     "name": "stderr",
     "output_type": "stream",
     "text": [
      "<ipython-input-1-f0476c75a120>:24: UserWarning: Boolean Series key will be reindexed to match DataFrame index.\n",
      "  df_short = df0.loc[:,[\"precinct\",\"office\",\"county_name\",\"county_fips\",\"party_detailed\",\"votes\"]] \\\n"
     ]
    },
    {
     "data": {
      "text/plain": [
       "(array([ 27.,   0.,   0.,   0.,   3.,   4.,  16.,  68., 143.,   5.]),\n",
       " array([0.        , 0.11467869, 0.22935738, 0.34403607, 0.45871476,\n",
       "        0.57339345, 0.68807214, 0.80275083, 0.91742952, 1.03210821,\n",
       "        1.1467869 ]),\n",
       " <BarContainer object of 10 artists>)"
      ]
     },
     "execution_count": 3,
     "metadata": {},
     "output_type": "execute_result"
    },
    {
     "data": {
      "image/png": "[encoded data removed]",
      "text/plain": [
       "<Figure size 432x288 with 1 Axes>"
      ]
     },
     "metadata": {
      "needs_background": "light"
     },
     "output_type": "display_data"
    }
   ],
   "source": [
    "import matplotlib.pyplot as plt\n",
    "import pandas as pd\n",
    "file = 'data/2020-va-precinct-general.csv'   \n",
    "df_2020 = entropy(file)\n",
    "plt.hist(df_2020['entropy'])\n"
   ]
  },
  {
   "cell_type": "code",
   "execution_count": 4,
   "metadata": {},
   "outputs": [
    {
     "name": "stdout",
     "output_type": "stream",
     "text": [
      "party_list ['Democrat', 'Republican']\n"
     ]
    },
    {
     "name": "stderr",
     "output_type": "stream",
     "text": [
      "<ipython-input-1-f0476c75a120>:24: UserWarning: Boolean Series key will be reindexed to match DataFrame index.\n",
      "  df_short = df0.loc[:,[\"precinct\",\"office\",\"county_name\",\"county_fips\",\"party_detailed\",\"votes\"]] \\\n"
     ]
    },
    {
     "data": {
      "text/plain": [
       "(array([ 1.,  0.,  0.,  0.,  0.,  1.,  2., 22., 36., 71.]),\n",
       " array([0.        , 0.09999994, 0.19999988, 0.29999982, 0.39999975,\n",
       "        0.49999969, 0.59999963, 0.69999957, 0.79999951, 0.89999945,\n",
       "        0.99999939]),\n",
       " <BarContainer object of 10 artists>)"
      ]
     },
     "execution_count": 4,
     "metadata": {},
     "output_type": "execute_result"
    },
    {
     "data": {
      "image/png": "[encoded data removed]",
      "text/plain": [
       "<Figure size 432x288 with 1 Axes>"
      ]
     },
     "metadata": {
      "needs_background": "light"
     },
     "output_type": "display_data"
    }
   ],
   "source": [
    "file = \"data/MIT_data_2016_HouseSenate_merged.csv\"\n",
    "df_2016 = entropy(file)\n",
    "plt.hist(df_2016['entropy'])"
   ]
  },
  {
   "cell_type": "code",
   "execution_count": 5,
   "metadata": {},
   "outputs": [
    {
     "data": {
      "image/png": "[encoded data removed]",
      "text/plain": [
       "<Figure size 432x288 with 1 Axes>"
      ]
     },
     "metadata": {
      "needs_background": "light"
     },
     "output_type": "display_data"
    }
   ],
   "source": [
    "plt.hist([df_2016['entropy'],df_2018[\"entropy\"],df_2020[\"entropy\"]],color=['orange','blue','black'])\n",
    "plt.legend([\"2016\",\"2018\",\"2020\"])\n",
    "median_2016 = df_2016['entropy'].median()\n",
    "plt.vlines(median_2016,0,150,'orange')\n",
    "median_2018 = df_2018['entropy'].median()\n",
    "plt.vlines(median_2018,0,150,'blue')\n",
    "median_2020 = df_2020['entropy'].median()\n",
    "plt.vlines(median_2020,0,150,'black')\n",
    "plt.show()"
   ]
  },
  {
   "cell_type": "code",
   "execution_count": 6,
   "metadata": {},
   "outputs": [],
   "source": [
    "#plot median, mean, etc\n",
    "#add interpretation"
   ]
  },
  {
   "cell_type": "code",
   "execution_count": 7,
   "metadata": {},
   "outputs": [
    {
     "data": {
      "text/plain": [
       "0.9075623105715451"
      ]
     },
     "execution_count": 7,
     "metadata": {},
     "output_type": "execute_result"
    }
   ],
   "source": [
    "median_2016"
   ]
  },
  {
   "cell_type": "code",
   "execution_count": 8,
   "metadata": {},
   "outputs": [],
   "source": [
    "def ent(x):\n",
    "    import numpy as np\n",
    "    z = [xi/sum(x) for xi in x]\n",
    "    e = -sum([zi*np.log2(zi) for zi in z])\n",
    "    return e"
   ]
  },
  {
   "cell_type": "code",
   "execution_count": 9,
   "metadata": {},
   "outputs": [
    {
     "data": {
      "text/plain": [
       "0.0007864828502181944"
      ]
     },
     "execution_count": 9,
     "metadata": {},
     "output_type": "execute_result"
    }
   ],
   "source": [
    "ent([1,20000])"
   ]
  },
  {
   "cell_type": "code",
   "execution_count": 10,
   "metadata": {},
   "outputs": [
    {
     "data": {
      "text/html": [
       "<div>\n",
       "<style scoped>\n",
       "    .dataframe tbody tr th:only-of-type {\n",
       "        vertical-align: middle;\n",
       "    }\n",
       "\n",
       "    .dataframe tbody tr th {\n",
       "        vertical-align: top;\n",
       "    }\n",
       "\n",
       "    .dataframe thead tr th {\n",
       "        text-align: left;\n",
       "    }\n",
       "</style>\n",
       "<table border=\"1\" class=\"dataframe\">\n",
       "  <thead>\n",
       "    <tr>\n",
       "      <th></th>\n",
       "      <th>index</th>\n",
       "      <th>county_name</th>\n",
       "      <th>county_fips</th>\n",
       "      <th>office</th>\n",
       "      <th colspan=\"3\" halign=\"left\">votes</th>\n",
       "      <th>total_votes</th>\n",
       "      <th>entropy</th>\n",
       "      <th>color</th>\n",
       "    </tr>\n",
       "    <tr>\n",
       "      <th>party_detailed</th>\n",
       "      <th></th>\n",
       "      <th></th>\n",
       "      <th></th>\n",
       "      <th></th>\n",
       "      <th>DEMOCRAT</th>\n",
       "      <th>LIBERTARIAN</th>\n",
       "      <th>REPUBLICAN</th>\n",
       "      <th></th>\n",
       "      <th></th>\n",
       "      <th></th>\n",
       "    </tr>\n",
       "  </thead>\n",
       "  <tbody>\n",
       "    <tr>\n",
       "      <th>0</th>\n",
       "      <td>0</td>\n",
       "      <td>ACCOMACK</td>\n",
       "      <td>51001</td>\n",
       "      <td>US HOUSE</td>\n",
       "      <td>5729.0</td>\n",
       "      <td>NaN</td>\n",
       "      <td>7025.0</td>\n",
       "      <td>12754.0</td>\n",
       "      <td>0.992539</td>\n",
       "      <td>0.449192</td>\n",
       "    </tr>\n",
       "    <tr>\n",
       "      <th>1</th>\n",
       "      <td>1</td>\n",
       "      <td>ACCOMACK</td>\n",
       "      <td>51001</td>\n",
       "      <td>US SENATE</td>\n",
       "      <td>5997.0</td>\n",
       "      <td>135.0</td>\n",
       "      <td>6605.0</td>\n",
       "      <td>12737.0</td>\n",
       "      <td>1.072478</td>\n",
       "      <td>0.470833</td>\n",
       "    </tr>\n",
       "    <tr>\n",
       "      <th>2</th>\n",
       "      <td>2</td>\n",
       "      <td>ALBEMARLE</td>\n",
       "      <td>51003</td>\n",
       "      <td>US HOUSE</td>\n",
       "      <td>34409.0</td>\n",
       "      <td>NaN</td>\n",
       "      <td>18807.0</td>\n",
       "      <td>53216.0</td>\n",
       "      <td>0.937076</td>\n",
       "      <td>0.646591</td>\n",
       "    </tr>\n",
       "    <tr>\n",
       "      <th>3</th>\n",
       "      <td>3</td>\n",
       "      <td>ALBEMARLE</td>\n",
       "      <td>51003</td>\n",
       "      <td>US SENATE</td>\n",
       "      <td>35701.0</td>\n",
       "      <td>1161.0</td>\n",
       "      <td>16371.0</td>\n",
       "      <td>53233.0</td>\n",
       "      <td>1.030074</td>\n",
       "      <td>0.670655</td>\n",
       "    </tr>\n",
       "    <tr>\n",
       "      <th>4</th>\n",
       "      <td>4</td>\n",
       "      <td>ALEXANDRIA CITY</td>\n",
       "      <td>51510</td>\n",
       "      <td>US HOUSE</td>\n",
       "      <td>52006.0</td>\n",
       "      <td>NaN</td>\n",
       "      <td>13569.0</td>\n",
       "      <td>65575.0</td>\n",
       "      <td>0.735561</td>\n",
       "      <td>0.793077</td>\n",
       "    </tr>\n",
       "  </tbody>\n",
       "</table>\n",
       "</div>"
      ],
      "text/plain": [
       "               index      county_name county_fips     office    votes  \\\n",
       "party_detailed                                               DEMOCRAT   \n",
       "0                  0         ACCOMACK       51001   US HOUSE   5729.0   \n",
       "1                  1         ACCOMACK       51001  US SENATE   5997.0   \n",
       "2                  2        ALBEMARLE       51003   US HOUSE  34409.0   \n",
       "3                  3        ALBEMARLE       51003  US SENATE  35701.0   \n",
       "4                  4  ALEXANDRIA CITY       51510   US HOUSE  52006.0   \n",
       "\n",
       "                                      total_votes   entropy     color  \n",
       "party_detailed LIBERTARIAN REPUBLICAN                                  \n",
       "0                      NaN     7025.0     12754.0  0.992539  0.449192  \n",
       "1                    135.0     6605.0     12737.0  1.072478  0.470833  \n",
       "2                      NaN    18807.0     53216.0  0.937076  0.646591  \n",
       "3                   1161.0    16371.0     53233.0  1.030074  0.670655  \n",
       "4                      NaN    13569.0     65575.0  0.735561  0.793077  "
      ]
     },
     "execution_count": 10,
     "metadata": {},
     "output_type": "execute_result"
    }
   ],
   "source": [
    "reset_df = df_2018.reset_index()\n",
    "reset_df.head()"
   ]
  },
  {
   "cell_type": "code",
   "execution_count": null,
   "metadata": {},
   "outputs": [],
   "source": [
    "df_2018.head()"
   ]
  }
 ],
 "metadata": {
  "kernelspec": {
   "display_name": "Python 3",
   "language": "python",
   "name": "python3"
  },
  "language_info": {
   "codemirror_mode": {
    "name": "ipython",
    "version": 3
   },
   "file_extension": ".py",
   "mimetype": "text/x-python",
   "name": "python",
   "nbconvert_exporter": "python",
   "pygments_lexer": "ipython3",
   "version": "3.8.5"
  }
 },
 "nbformat": 4,
 "nbformat_minor": 4
}
